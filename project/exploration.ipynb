{
 "cells": [
  {
   "attachments": {},
   "cell_type": "markdown",
   "metadata": {},
   "source": [
    "# Data Exploration\n",
    "\n",
    "In this notebook describe your data exploration steps."
   ]
  },
  {
   "attachments": {},
   "cell_type": "markdown",
   "metadata": {},
   "source": [
    "## Install dependencies"
   ]
  },
  {
   "cell_type": "code",
   "execution_count": 1,
   "metadata": {},
   "outputs": [
    {
     "name": "stdout",
     "output_type": "stream",
     "text": [
      "Collecting matplotlib==3.6.2\n",
      "  Downloading matplotlib-3.6.2-cp38-cp38-manylinux_2_12_x86_64.manylinux2010_x86_64.whl (9.4 MB)\n",
      "\u001b[K     |████████████████████████████████| 9.4 MB 13.7 MB/s eta 0:00:01     |████████████████▏               | 4.7 MB 13.7 MB/s eta 0:00:01\n",
      "\u001b[?25hRequirement already satisfied: pandas==2.0.1 in /home/coder/.local/lib/python3.8/site-packages (from -r requirements.txt (line 2)) (2.0.1)\n",
      "Requirement already satisfied: pytest==7.3.1 in /home/coder/.local/lib/python3.8/site-packages (from -r requirements.txt (line 3)) (7.3.1)\n",
      "Requirement already satisfied: rich==13.3.5 in /home/coder/.local/lib/python3.8/site-packages (from -r requirements.txt (line 4)) (13.3.5)\n",
      "Collecting SQLAlchemy==2.0.13\n",
      "  Downloading SQLAlchemy-2.0.13-cp38-cp38-manylinux_2_17_x86_64.manylinux2014_x86_64.whl (2.8 MB)\n",
      "\u001b[K     |████████████████████████████████| 2.8 MB 34.1 MB/s eta 0:00:01\n",
      "\u001b[?25hCollecting cycler>=0.10\n",
      "  Downloading cycler-0.11.0-py3-none-any.whl (6.4 kB)\n",
      "Requirement already satisfied: numpy>=1.19 in /home/coder/.local/lib/python3.8/site-packages (from matplotlib==3.6.2->-r requirements.txt (line 1)) (1.24.3)\n",
      "Collecting fonttools>=4.22.0\n",
      "  Downloading fonttools-4.40.0-cp38-cp38-manylinux_2_17_x86_64.manylinux2014_x86_64.whl (4.4 MB)\n",
      "\u001b[K     |████████████████████████████████| 4.4 MB 22.7 MB/s eta 0:00:01     |█████████████████               | 2.3 MB 22.7 MB/s eta 0:00:01\n",
      "\u001b[?25hCollecting kiwisolver>=1.0.1\n",
      "  Downloading kiwisolver-1.4.4-cp38-cp38-manylinux_2_5_x86_64.manylinux1_x86_64.whl (1.2 MB)\n",
      "\u001b[K     |████████████████████████████████| 1.2 MB 33.9 MB/s eta 0:00:01\n",
      "\u001b[?25hCollecting pillow>=6.2.0\n",
      "  Downloading Pillow-9.5.0-cp38-cp38-manylinux_2_17_x86_64.manylinux2014_x86_64.whl (3.3 MB)\n",
      "\u001b[K     |████████████████████████████████| 3.3 MB 35.3 MB/s eta 0:00:01\n",
      "\u001b[?25hCollecting contourpy>=1.0.1\n",
      "  Downloading contourpy-1.1.0-cp38-cp38-manylinux_2_17_x86_64.manylinux2014_x86_64.whl (300 kB)\n",
      "\u001b[K     |████████████████████████████████| 300 kB 21.1 MB/s eta 0:00:01\n",
      "\u001b[?25hCollecting pyparsing>=2.2.1\n",
      "  Downloading pyparsing-3.0.9-py3-none-any.whl (98 kB)\n",
      "\u001b[K     |████████████████████████████████| 98 kB 13.6 MB/s eta 0:00:01\n",
      "\u001b[?25hRequirement already satisfied: python-dateutil>=2.7 in /home/coder/.local/lib/python3.8/site-packages (from matplotlib==3.6.2->-r requirements.txt (line 1)) (2.8.2)\n",
      "Requirement already satisfied: packaging>=20.0 in /home/coder/.local/lib/python3.8/site-packages (from matplotlib==3.6.2->-r requirements.txt (line 1)) (23.1)\n",
      "Requirement already satisfied: pytz>=2020.1 in /home/coder/.local/lib/python3.8/site-packages (from pandas==2.0.1->-r requirements.txt (line 2)) (2023.3)\n",
      "Requirement already satisfied: tzdata>=2022.1 in /home/coder/.local/lib/python3.8/site-packages (from pandas==2.0.1->-r requirements.txt (line 2)) (2023.3)\n",
      "Requirement already satisfied: pluggy<2.0,>=0.12 in /home/coder/.local/lib/python3.8/site-packages (from pytest==7.3.1->-r requirements.txt (line 3)) (1.0.0)\n",
      "Requirement already satisfied: exceptiongroup>=1.0.0rc8; python_version < \"3.11\" in /home/coder/.local/lib/python3.8/site-packages (from pytest==7.3.1->-r requirements.txt (line 3)) (1.1.1)\n",
      "Requirement already satisfied: iniconfig in /home/coder/.local/lib/python3.8/site-packages (from pytest==7.3.1->-r requirements.txt (line 3)) (2.0.0)\n",
      "Requirement already satisfied: tomli>=1.0.0; python_version < \"3.11\" in /home/coder/.local/lib/python3.8/site-packages (from pytest==7.3.1->-r requirements.txt (line 3)) (2.0.1)\n",
      "Requirement already satisfied: markdown-it-py<3.0.0,>=2.2.0 in /home/coder/.local/lib/python3.8/site-packages (from rich==13.3.5->-r requirements.txt (line 4)) (2.2.0)\n",
      "Requirement already satisfied: typing-extensions<5.0,>=4.0.0; python_version < \"3.9\" in /home/coder/.local/lib/python3.8/site-packages (from rich==13.3.5->-r requirements.txt (line 4)) (4.5.0)\n",
      "Requirement already satisfied: pygments<3.0.0,>=2.13.0 in /home/coder/.local/lib/python3.8/site-packages (from rich==13.3.5->-r requirements.txt (line 4)) (2.15.1)\n",
      "Requirement already satisfied: greenlet!=0.4.17; platform_machine == \"aarch64\" or (platform_machine == \"ppc64le\" or (platform_machine == \"x86_64\" or (platform_machine == \"amd64\" or (platform_machine == \"AMD64\" or (platform_machine == \"win32\" or platform_machine == \"WIN32\"))))) in /home/coder/.local/lib/python3.8/site-packages (from SQLAlchemy==2.0.13->-r requirements.txt (line 5)) (2.0.2)\n",
      "Requirement already satisfied: six>=1.5 in /usr/lib/python3/dist-packages (from python-dateutil>=2.7->matplotlib==3.6.2->-r requirements.txt (line 1)) (1.14.0)\n",
      "Requirement already satisfied: mdurl~=0.1 in /home/coder/.local/lib/python3.8/site-packages (from markdown-it-py<3.0.0,>=2.2.0->rich==13.3.5->-r requirements.txt (line 4)) (0.1.2)\n",
      "Installing collected packages: cycler, fonttools, kiwisolver, pillow, contourpy, pyparsing, matplotlib, SQLAlchemy\n",
      "  Attempting uninstall: SQLAlchemy\n",
      "    Found existing installation: SQLAlchemy 2.0.15\n",
      "    Uninstalling SQLAlchemy-2.0.15:\n",
      "      Successfully uninstalled SQLAlchemy-2.0.15\n",
      "Successfully installed SQLAlchemy-2.0.13 contourpy-1.1.0 cycler-0.11.0 fonttools-4.40.0 kiwisolver-1.4.4 matplotlib-3.6.2 pillow-9.5.0 pyparsing-3.0.9\n",
      "Note: you may need to restart the kernel to use updated packages.\n"
     ]
    }
   ],
   "source": [
    "%pip install -r requirements.txt"
   ]
  },
  {
   "attachments": {},
   "cell_type": "markdown",
   "metadata": {},
   "source": [
    "## Load data"
   ]
  },
  {
   "cell_type": "code",
   "execution_count": 16,
   "metadata": {},
   "outputs": [
    {
     "data": {
      "text/html": [
       "<div>\n",
       "<style scoped>\n",
       "    .dataframe tbody tr th:only-of-type {\n",
       "        vertical-align: middle;\n",
       "    }\n",
       "\n",
       "    .dataframe tbody tr th {\n",
       "        vertical-align: top;\n",
       "    }\n",
       "\n",
       "    .dataframe thead th {\n",
       "        text-align: right;\n",
       "    }\n",
       "</style>\n",
       "<table border=\"1\" class=\"dataframe\">\n",
       "  <thead>\n",
       "    <tr style=\"text-align: right;\">\n",
       "      <th></th>\n",
       "      <th>id</th>\n",
       "      <th>count</th>\n",
       "    </tr>\n",
       "  </thead>\n",
       "  <tbody>\n",
       "    <tr>\n",
       "      <th>0</th>\n",
       "      <td>2020-01-01 00</td>\n",
       "      <td>327</td>\n",
       "    </tr>\n",
       "    <tr>\n",
       "      <th>1</th>\n",
       "      <td>2020-01-01 01</td>\n",
       "      <td>649</td>\n",
       "    </tr>\n",
       "    <tr>\n",
       "      <th>2</th>\n",
       "      <td>2020-01-01 02</td>\n",
       "      <td>963</td>\n",
       "    </tr>\n",
       "    <tr>\n",
       "      <th>3</th>\n",
       "      <td>2020-01-01 03</td>\n",
       "      <td>937</td>\n",
       "    </tr>\n",
       "    <tr>\n",
       "      <th>4</th>\n",
       "      <td>2020-01-01 04</td>\n",
       "      <td>706</td>\n",
       "    </tr>\n",
       "    <tr>\n",
       "      <th>5</th>\n",
       "      <td>2020-01-01 05</td>\n",
       "      <td>370</td>\n",
       "    </tr>\n",
       "    <tr>\n",
       "      <th>6</th>\n",
       "      <td>2020-01-01 06</td>\n",
       "      <td>203</td>\n",
       "    </tr>\n",
       "    <tr>\n",
       "      <th>7</th>\n",
       "      <td>2020-01-01 07</td>\n",
       "      <td>128</td>\n",
       "    </tr>\n",
       "    <tr>\n",
       "      <th>8</th>\n",
       "      <td>2020-01-01 08</td>\n",
       "      <td>101</td>\n",
       "    </tr>\n",
       "    <tr>\n",
       "      <th>9</th>\n",
       "      <td>2020-01-01 09</td>\n",
       "      <td>149</td>\n",
       "    </tr>\n",
       "  </tbody>\n",
       "</table>\n",
       "</div>"
      ],
      "text/plain": [
       "              id  count\n",
       "0  2020-01-01 00    327\n",
       "1  2020-01-01 01    649\n",
       "2  2020-01-01 02    963\n",
       "3  2020-01-01 03    937\n",
       "4  2020-01-01 04    706\n",
       "5  2020-01-01 05    370\n",
       "6  2020-01-01 06    203\n",
       "7  2020-01-01 07    128\n",
       "8  2020-01-01 08    101\n",
       "9  2020-01-01 09    149"
      ]
     },
     "execution_count": 16,
     "metadata": {},
     "output_type": "execute_result"
    }
   ],
   "source": [
    "import pandas as pd\n",
    "\n",
    "df = pd.read_sql_table('bikes', 'sqlite:///../data/data.sqlite')\n",
    "df.head(10)"
   ]
  },
  {
   "attachments": {},
   "cell_type": "markdown",
   "metadata": {},
   "source": [
    "### Look at the first rows"
   ]
  },
  {
   "cell_type": "code",
   "execution_count": 8,
   "metadata": {},
   "outputs": [
    {
     "data": {
      "text/html": [
       "<div>\n",
       "<style scoped>\n",
       "    .dataframe tbody tr th:only-of-type {\n",
       "        vertical-align: middle;\n",
       "    }\n",
       "\n",
       "    .dataframe tbody tr th {\n",
       "        vertical-align: top;\n",
       "    }\n",
       "\n",
       "    .dataframe thead th {\n",
       "        text-align: right;\n",
       "    }\n",
       "</style>\n",
       "<table border=\"1\" class=\"dataframe\">\n",
       "  <thead>\n",
       "    <tr style=\"text-align: right;\">\n",
       "      <th></th>\n",
       "      <th>id</th>\n",
       "      <th>count</th>\n",
       "    </tr>\n",
       "  </thead>\n",
       "  <tbody>\n",
       "  </tbody>\n",
       "</table>\n",
       "</div>"
      ],
      "text/plain": [
       "Empty DataFrame\n",
       "Columns: [id, count]\n",
       "Index: []"
      ]
     },
     "execution_count": 8,
     "metadata": {},
     "output_type": "execute_result"
    }
   ],
   "source": [
    "df.head(10)"
   ]
  },
  {
   "attachments": {},
   "cell_type": "markdown",
   "metadata": {},
   "source": [
    "### Data exploration\n",
    "Print some basic information about the data. Your data exploration would continue here."
   ]
  },
  {
   "cell_type": "code",
   "execution_count": 10,
   "metadata": {},
   "outputs": [
    {
     "name": "stdout",
     "output_type": "stream",
     "text": [
      "<class 'pandas.core.frame.DataFrame'>\n",
      "RangeIndex: 9 entries, 0 to 8\n",
      "Data columns (total 20 columns):\n",
      " #   Column          Non-Null Count  Dtype  \n",
      "---  ------          --------------  -----  \n",
      " 0   date            9 non-null      int64  \n",
      " 1   clouds_qn8      9 non-null      int64  \n",
      " 2   ewind_qn8       9 non-null      int64  \n",
      " 3   ewind_fx911     9 non-null      int64  \n",
      " 4   moist_qn8       9 non-null      int64  \n",
      " 5   moist_absf_std  9 non-null      float64\n",
      " 6   moist_vp_std    9 non-null      float64\n",
      " 7   moist_tf_std    9 non-null      float64\n",
      " 8   moist_p_std     9 non-null      float64\n",
      " 9   moist_tt_std    9 non-null      float64\n",
      " 10  moist_rf_std    9 non-null      float64\n",
      " 11  moist_td_std    9 non-null      float64\n",
      " 12  temp_qn9        9 non-null      int64  \n",
      " 13  temp_tt_tu      9 non-null      float64\n",
      " 14  temp_rf_tu      9 non-null      float64\n",
      " 15  vis_qn8         9 non-null      int64  \n",
      " 16  vis_v_vv        9 non-null      float64\n",
      " 17  wind_qn3        9 non-null      int64  \n",
      " 18  wind_f          9 non-null      float64\n",
      " 19  wind_d          9 non-null      int64  \n",
      "dtypes: float64(11), int64(9)\n",
      "memory usage: 1.5 KB\n"
     ]
    },
    {
     "data": {
      "text/plain": [
       "array([1])"
      ]
     },
     "execution_count": 10,
     "metadata": {},
     "output_type": "execute_result"
    }
   ],
   "source": [
    "df.info()\n",
    "\n",
    "df['clouds_qn8'].unique()"
   ]
  }
 ],
 "metadata": {
  "kernelspec": {
   "display_name": "Python 3",
   "language": "python",
   "name": "python3"
  },
  "language_info": {
   "codemirror_mode": {
    "name": "ipython",
    "version": 3
   },
   "file_extension": ".py",
   "mimetype": "text/x-python",
   "name": "python",
   "nbconvert_exporter": "python",
   "pygments_lexer": "ipython3",
   "version": "3.8.10"
  },
  "orig_nbformat": 4,
  "vscode": {
   "interpreter": {
    "hash": "916dbcbb3f70747c44a77c7bcd40155683ae19c65e1c03b4aa3499c5328201f1"
   }
  }
 },
 "nbformat": 4,
 "nbformat_minor": 2
}
